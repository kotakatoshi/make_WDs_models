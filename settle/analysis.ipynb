{
 "cells": [
  {
   "cell_type": "code",
   "execution_count": 49,
   "metadata": {},
   "outputs": [
    {
     "name": "stdout",
     "output_type": "stream",
     "text": [
      "      zone          mass      logR      logT    logRho       logP  \\\n",
      "0      1.0  1.350480e+00 -2.536062  4.855730 -0.400098  11.125589   \n",
      "1      2.0  1.350480e+00 -2.536062  5.035131 -0.102378  11.602710   \n",
      "2      3.0  1.350480e+00 -2.536062  5.123167  0.031435  11.824559   \n",
      "3      4.0  1.350480e+00 -2.536062  5.181581  0.119149  11.970688   \n",
      "4      5.0  1.350480e+00 -2.536062  5.224469  0.183482  12.077908   \n",
      "..     ...           ...       ...       ...       ...        ...   \n",
      "955  956.0  1.719082e-06 -4.974707  7.441867  9.308549  27.091059   \n",
      "956  957.0  8.595409e-07 -5.075056  7.441867  9.308575  27.091094   \n",
      "957  958.0  4.297705e-07 -5.175404  7.441867  9.308592  27.091116   \n",
      "958  959.0  2.148852e-07 -5.275749  7.441867  9.308602  27.091130   \n",
      "959  960.0  1.074426e-07 -5.376094  7.441867  9.308611  27.091142   \n",
      "\n",
      "     x_mass_fraction_H  y_mass_fraction_He  z_mass_fraction_metals   entropy  \\\n",
      "0         1.000000e-99        2.000000e-99                     1.0  1.124556   \n",
      "1         1.000000e-99        2.000000e-99                     1.0  1.120849   \n",
      "2         1.000000e-99        2.000000e-99                     1.0  1.120622   \n",
      "3         1.000000e-99        2.000000e-99                     1.0  1.120610   \n",
      "4         1.000000e-99        2.000000e-99                     1.0  1.120610   \n",
      "..                 ...                 ...                     ...       ...   \n",
      "955       1.000000e-99        2.000000e-99                     1.0  0.145555   \n",
      "956       1.000000e-99        2.000000e-99                     1.0  0.145552   \n",
      "957       1.000000e-99        2.000000e-99                     1.0  0.145550   \n",
      "958       1.000000e-99        2.000000e-99                     1.0  0.145549   \n",
      "959       1.000000e-99        2.000000e-99                     1.0  0.145548   \n",
      "\n",
      "     ...            h1           he3           he4           c12  \\\n",
      "0    ...  1.000000e-99  1.000000e-99  1.000000e-99  1.000000e-99   \n",
      "1    ...  1.000000e-99  1.000000e-99  1.000000e-99  1.000000e-99   \n",
      "2    ...  1.000000e-99  1.000000e-99  1.000000e-99  1.000000e-99   \n",
      "3    ...  1.000000e-99  1.000000e-99  1.000000e-99  1.000000e-99   \n",
      "4    ...  1.000000e-99  1.000000e-99  1.000000e-99  1.000000e-99   \n",
      "..   ...           ...           ...           ...           ...   \n",
      "955  ...  1.000000e-99  1.000000e-99  1.000000e-99  1.000000e-99   \n",
      "956  ...  1.000000e-99  1.000000e-99  1.000000e-99  1.000000e-99   \n",
      "957  ...  1.000000e-99  1.000000e-99  1.000000e-99  1.000000e-99   \n",
      "958  ...  1.000000e-99  1.000000e-99  1.000000e-99  1.000000e-99   \n",
      "959  ...  1.000000e-99  1.000000e-99  1.000000e-99  1.000000e-99   \n",
      "\n",
      "              n14  o16  ne20          mg24       logL  extra_heat  \n",
      "0    1.000000e-99  0.5   0.5  1.000000e-99  -1.616966         0.0  \n",
      "1    1.000000e-99  0.5   0.5  1.000000e-99  -1.616966         0.0  \n",
      "2    1.000000e-99  0.5   0.5  1.000000e-99  -1.616966         0.0  \n",
      "3    1.000000e-99  0.5   0.5  1.000000e-99  -1.616966         0.0  \n",
      "4    1.000000e-99  0.5   0.5  1.000000e-99  -1.616966         0.0  \n",
      "..            ...  ...   ...           ...        ...         ...  \n",
      "955  1.000000e-99  0.5   0.5  1.000000e-99 -12.000000         0.0  \n",
      "956  1.000000e-99  0.5   0.5  1.000000e-99 -12.000000         0.0  \n",
      "957  1.000000e-99  0.5   0.5  1.000000e-99 -12.000000         0.0  \n",
      "958  1.000000e-99  0.5   0.5  1.000000e-99 -12.000000         0.0  \n",
      "959  1.000000e-99  0.5   0.5  1.000000e-99 -12.000000         0.0  \n",
      "\n",
      "[960 rows x 37 columns]\n",
      "0        1.0\n",
      "1        2.0\n",
      "2        3.0\n",
      "3        4.0\n",
      "4        5.0\n",
      "       ...  \n",
      "955    956.0\n",
      "956    957.0\n",
      "957    958.0\n",
      "958    959.0\n",
      "959    960.0\n",
      "Name: zone, Length: 960, dtype: float64\n"
     ]
    }
   ],
   "source": [
    "import numpy as np\n",
    "import pandas as pd\n",
    "import matplotlib.pyplot as plt\n",
    "# ファイルパスを指定\n",
    "file_path = \"LOGS/profile60.data\"\n",
    "\n",
    "# ファイルを開いて行を読み込む\n",
    "with open(file_path, 'r') as f:\n",
    "    lines = f.readlines()\n",
    "\n",
    "# 5行目（インデックス4）を列名として取得\n",
    "column_names = lines[5].strip().split()\n",
    "\n",
    "# 6行目以降のデータを取得\n",
    "data_lines = lines[6:]  # 最初の5行をスキップ\n",
    "\n",
    "# DをEに置き換え\n",
    "data_lines = [line.replace('D', 'E') for line in data_lines]\n",
    "\n",
    "# 各行を分割し、数値として読み込む\n",
    "data = np.array([list(map(float, line.split())) for line in data_lines])\n",
    "\n",
    "# DataFrameを作成\n",
    "df = pd.DataFrame(data, columns=column_names)\n",
    "\n",
    "# 結果を確認\n",
    "print(df)\n",
    "\n",
    "# R列のデータを取り出す例\n",
    "print(df[\"zone\"])\n",
    "#zone = df[\"zone\"].to_numpy()\n",
    "#zone\n"
   ]
  },
  {
   "cell_type": "code",
   "execution_count": 50,
   "metadata": {},
   "outputs": [
    {
     "data": {
      "text/plain": [
       "<matplotlib.legend.Legend at 0x7f5381dbc5f8>"
      ]
     },
     "execution_count": 50,
     "metadata": {},
     "output_type": "execute_result"
    },
    {
     "data": {
      "image/png": "[encoded data removed]",
      "text/plain": [
       "<Figure size 432x288 with 1 Axes>"
      ]
     },
     "metadata": {
      "needs_background": "light"
     },
     "output_type": "display_data"
    }
   ],
   "source": [
    "plt.plot(10**df[\"logR\"].to_numpy()* 7e10,10**df[\"logT\"].to_numpy(),label = \"temp\")\n",
    "#plt.yscale(\"log\")\n",
    "plt.legend()"
   ]
  },
  {
   "cell_type": "code",
   "execution_count": 51,
   "metadata": {},
   "outputs": [
    {
     "data": {
      "text/plain": [
       "<matplotlib.legend.Legend at 0x7f538155cd68>"
      ]
     },
     "execution_count": 51,
     "metadata": {},
     "output_type": "execute_result"
    },
    {
     "data": {
      "image/png": "[encoded data removed]",
      "text/plain": [
       "<Figure size 432x288 with 1 Axes>"
      ]
     },
     "metadata": {
      "needs_background": "light"
     },
     "output_type": "display_data"
    }
   ],
   "source": [
    "plt.plot(10**df[\"logR\"].to_numpy()* 7e10,10**df[\"logP\"].to_numpy(),label = \"Press\")\n",
    "#plt.plot(R,prad,label = \"Prad\")\n",
    "plt.plot(10**df[\"logR\"].to_numpy()* 7e10,df[\"pgas\"].to_numpy(),label = \"Pgas\")\n",
    "#plt.plot(R,P - pgas- prad,label = \"dP\")\n",
    "plt.yscale(\"log\")\n",
    "plt.legend()"
   ]
  },
  {
   "cell_type": "code",
   "execution_count": 52,
   "metadata": {},
   "outputs": [
    {
     "data": {
      "text/plain": [
       "<matplotlib.legend.Legend at 0x7f53814c0ef0>"
      ]
     },
     "execution_count": 52,
     "metadata": {},
     "output_type": "execute_result"
    },
    {
     "data": {
      "image/png": "[encoded data removed]",
      "text/plain": [
       "<Figure size 432x288 with 1 Axes>"
      ]
     },
     "metadata": {
      "needs_background": "light"
     },
     "output_type": "display_data"
    }
   ],
   "source": [
    "plt.plot(10**df[\"logR\"].to_numpy()* 7e10,10**df[\"logL\"].to_numpy()* 3.8e33,label = \"luminosity\")\n",
    "\n",
    "#plt.plot(R,P - pgas- prad,label = \"dP\")\n",
    "plt.yscale(\"log\")\n",
    "plt.legend()"
   ]
  },
  {
   "cell_type": "code",
   "execution_count": 53,
   "metadata": {},
   "outputs": [
    {
     "data": {
      "text/plain": [
       "<matplotlib.legend.Legend at 0x7f5381402438>"
      ]
     },
     "execution_count": 53,
     "metadata": {},
     "output_type": "execute_result"
    },
    {
     "data": {
      "image/png": "[encoded data removed]",
      "text/plain": [
       "<Figure size 432x288 with 1 Axes>"
      ]
     },
     "metadata": {
      "needs_background": "light"
     },
     "output_type": "display_data"
    }
   ],
   "source": [
    "#plt.plot(R,c12,label = \"c\")\n",
    "plt.plot(10**df[\"logR\"].to_numpy()* 7e10,df[\"o16\"].to_numpy(),label = \"o\")\n",
    "plt.plot(10**df[\"logR\"].to_numpy()* 7e10,df[\"ne20\"].to_numpy(),label = \"ne\")\n",
    "#plt.plot(10**df[\"logR\"].to_numpy()* 7e10,df[\"c12\"].to_numpy(),label = \"c\")\n",
    "#plt.plot(R,P - pgas- prad,label = \"dP\")\n",
    "plt.ylim(0,1)\n",
    "plt.legend()"
   ]
  },
  {
   "cell_type": "code",
   "execution_count": null,
   "metadata": {},
   "outputs": [],
   "source": []
  },
  {
   "cell_type": "code",
   "execution_count": null,
   "metadata": {},
   "outputs": [],
   "source": []
  },
  {
   "cell_type": "code",
   "execution_count": null,
   "metadata": {},
   "outputs": [],
   "source": []
  },
  {
   "cell_type": "code",
   "execution_count": 54,
   "metadata": {},
   "outputs": [
    {
     "data": {
      "text/plain": [
       "<matplotlib.legend.Legend at 0x7f53813be048>"
      ]
     },
     "execution_count": 54,
     "metadata": {},
     "output_type": "execute_result"
    },
    {
     "data": {
      "image/png": "[encoded data removed]",
      "text/plain": [
       "<Figure size 432x288 with 1 Axes>"
      ]
     },
     "metadata": {
      "needs_background": "light"
     },
     "output_type": "display_data"
    }
   ],
   "source": [
    "plt.plot(10**df[\"logR\"].to_numpy()* 7e10,df[\"eta\"].to_numpy(),label = \"eta\")\n",
    "plt.yscale(\"log\")\n",
    "plt.legend()"
   ]
  },
  {
   "cell_type": "code",
   "execution_count": null,
   "metadata": {},
   "outputs": [],
   "source": []
  }
 ],
 "metadata": {
  "kernelspec": {
   "display_name": "Python 3",
   "language": "python",
   "name": "python3"
  },
  "language_info": {
   "codemirror_mode": {
    "name": "ipython",
    "version": 3
   },
   "file_extension": ".py",
   "mimetype": "text/x-python",
   "name": "python",
   "nbconvert_exporter": "python",
   "pygments_lexer": "ipython3",
   "version": "3.6.9"
  }
 },
 "nbformat": 4,
 "nbformat_minor": 2
}
